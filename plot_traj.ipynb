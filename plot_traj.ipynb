{
 "cells": [
  {
   "cell_type": "code",
   "execution_count": 1,
   "metadata": {},
   "outputs": [],
   "source": [
    "import os\n",
    "from os.path import join\n",
    "import re\n",
    "import numpy as np\n",
    "import shutil\n",
    "from mpl_toolkits.mplot3d import Axes3D\n",
    "import matplotlib.pyplot as plt\n",
    "from glob import glob\n",
    "from scipy.spatial.transform import Rotation\n",
    "from skimage.transform import resize\n",
    "from exr import read_exr"
   ]
  },
  {
   "cell_type": "code",
   "execution_count": 2,
   "metadata": {},
   "outputs": [],
   "source": [
    "base_dir = '/bigpen/simulator_data/LEC_fast_result'"
   ]
  },
  {
   "cell_type": "code",
   "execution_count": 3,
   "metadata": {},
   "outputs": [
    {
     "name": "stdout",
     "output_type": "stream",
     "text": [
      "[1.0, -0.0003235038, 0.01255963, 3.553312e-05, 0.9999211]\n"
     ]
    }
   ],
   "source": [
    "test_str = \"Frame 00001 Rotation: X=-0.0003235038, Y=0.01255963, Z=3.553312E-05, W=0.9999211\"\n",
    "def parse_sim_poses(line: str):\n",
    "    parsed = line.replace(',','').split(' ')\n",
    "    poses = [float(parsed[1])] + [float(p[2:]) for p in parsed[3:] if len(p)>2]\n",
    "    return poses\n",
    "print(parse_sim_poses(test_str))"
   ]
  },
  {
   "cell_type": "code",
   "execution_count": 4,
   "metadata": {},
   "outputs": [
    {
     "name": "stdout",
     "output_type": "stream",
     "text": [
      "[[ 0.          0.          0.        ]\n",
      " [-0.1219223  -0.06611776  0.391325  ]\n",
      " [-0.2345941  -0.1235123   0.7042255 ]\n",
      " ...\n",
      " [-8.210049    3.513173   16.42544   ]\n",
      " [-8.080097    3.530897   16.35147   ]\n",
      " [-7.950964    3.544424   16.27737   ]]\n"
     ]
    }
   ],
   "source": [
    "start = 120\n",
    "skeletons = np.load(\"/playpen/skeleton-on-surface/figures/LEC_fast/skeletons_3.npy\").astype(int)\n",
    "\n",
    "positions = []\n",
    "with open('/bigpen/simulator_data/LEC_fast/LEC_Camera Position Data.txt', 'r') as f:\n",
    "    for line in f:\n",
    "        if line[0]=='#' or len(line)<2:\n",
    "            continue\n",
    "        parsed = line.split(' ')\n",
    "        positions.append(parse_sim_poses(line))\n",
    "quaternions = []\n",
    "with open('/bigpen/simulator_data/LEC_fast/LEC_Camera Quaternion Rotation Data.txt', 'r') as f:\n",
    "    for line in f:\n",
    "        if line[0]=='#' or len(line)<2:\n",
    "            continue\n",
    "        parsed = line.split(' ')\n",
    "        quaternions.append(parse_sim_poses(line))\n",
    "\n",
    "# Convert parsed data to numpy arrays and select only the frames that were skeletonized\n",
    "pos_arr = np.array(positions)[:,1:]     # remove first column since it's just the frame numbers\n",
    "print(pos_arr)\n",
    "quat_arr = np.array(quaternions)[:,1:]\n",
    "pos_arr = pos_arr[start:start+len(skeletons)]\n",
    "quat_arr = quat_arr[start:start+len(skeletons)]\n",
    "rot_mat_arr = Rotation.from_quat(quat_arr).as_matrix() # type: np.ndarray\n",
    "\n",
    "step = 1\n",
    "skeletons = skeletons[::step]\n",
    "pos_arr = pos_arr[::step]\n",
    "rot_mat_arr = rot_mat_arr[::step]"
   ]
  },
  {
   "cell_type": "code",
   "execution_count": 54,
   "metadata": {},
   "outputs": [],
   "source": [
    "# x is down, y is left in camera coords\n",
    "cx = skeletons.shape[-1]//2\n",
    "cy = skeletons.shape[-2]//2\n",
    "fx = 144.2398/320*cx*2\n",
    "fy = 144.2398/320*cy*2\n",
    "camera_mat = np.array(\n",
    "    [[fx, 0, cx],\n",
    "     [0, fy, cy],\n",
    "     [0, 0, 1]]\n",
    ").astype(float)\n",
    "inv_camera_mat = np.linalg.inv(camera_mat)"
   ]
  },
  {
   "cell_type": "code",
   "execution_count": 55,
   "metadata": {},
   "outputs": [],
   "source": [
    "# Compute pose matrix\n",
    "Rt = np.zeros((len(skeletons), 4, 4))\n",
    "Rt[:,:3,:3] = rot_mat_arr\n",
    "Rt[:,:3,3] = pos_arr\n",
    "Rt[:,3,3] = 1\n",
    "\n",
    "points = []     # points in world coordinates\n",
    "points_c = []   # points in frames's camera coordinates\n",
    "frame_inds = []\n",
    "rng = np.random.default_rng()\n",
    "for i, sk in enumerate(skeletons):\n",
    "    sk = np.fliplr(sk)\n",
    "    # Read in depths\n",
    "    depths = read_exr(f\"/bigpen/simulator_data/LEC_fast/LEC_depth{step*i+120:05}.exr\")\n",
    "    depths = np.fliplr(depths)\n",
    "    depths = resize(depths, sk.shape)\n",
    "    coords = np.vstack(np.where(sk>0))\n",
    "    coords = coords.astype(int)\n",
    "    zs = depths[coords[0], coords[1]]\n",
    "    # for n in np.unique(sk)[1:]:\n",
    "    #     print(n, sk[coords[0], coords[1]])\n",
    "    #     zs[sk[coords[0], coords[1]]==n] = np.mean(zs[sk[coords]==n])\n",
    "\n",
    "    # thresh = np.mean(zs)+np.std(zs)\n",
    "    # zs = np.clip(zs, 0, np.mean(zs))\n",
    "    # print(np.mean(zs), np.std(zs))\n",
    "    # coords = coords[:,zs<thresh]\n",
    "    # zs = zs[zs<thresh]\n",
    "\n",
    "    # Transform coords to world coordinates\n",
    "    coords = coords.astype(float)\n",
    "    coords -= np.array([[cx], [cy]])\n",
    "    coords[0] *= 1/fx\n",
    "    coords[1] *= 1/fy\n",
    "    coords = coords*zs\n",
    "    coords = np.vstack([coords, zs, np.ones_like(zs)])\n",
    "    points_c.append(coords.copy())\n",
    "    coords = Rt[i] @ coords\n",
    "    points.append(coords)\n",
    "    frame_inds.extend([i for _ in range(coords.shape[1])])\n",
    "\n",
    "points = np.hstack(points)\n",
    "points = points[:3]\n",
    "\n",
    "mins = [np.min(p[2]) for p in points_c]\n",
    "# plt.figure()\n",
    "# plt.hist(mins)\n",
    "# plt.show()"
   ]
  },
  {
   "cell_type": "code",
   "execution_count": 181,
   "metadata": {},
   "outputs": [],
   "source": [
    "# fig = plt.figure()\n",
    "# ax = Axes3D(fig)\n",
    "# ax.set_box_aspect([np.ptp(r) for r in np.hstack([points, pos_arr.T])])\n",
    "# ax.set_xlabel('X')\n",
    "# ax.set_zlabel('Z')\n",
    "# ax.plot(*pos_arr.T)\n",
    "# # ax.scatter(*old_pose_arr.T[1:4], c=colors)\n",
    "# ax.scatter(*points)\n",
    "\n",
    "# ax.quiver(*pos_arr.T, *(rot_mat_arr[:,:,0].T), color='blue', length=0.3)\n",
    "# ax.quiver(*pos_arr.T, *(rot_mat_arr[:,:,1].T), color='red', length=0.1)\n",
    "# ax.quiver(*pos_arr.T, *(rot_mat_arr[:,:,2].T), color='green', length=0.3)"
   ]
  },
  {
   "cell_type": "code",
   "execution_count": 56,
   "metadata": {},
   "outputs": [],
   "source": [
    "import plotly.express as px\n",
    "import pandas as pd\n",
    "import plotly.graph_objects as go\n",
    "\n",
    "coords = ['x', 'y', 'z']\n",
    "fig = px.line_3d(pd.DataFrame({coords[i]:pos_arr[:,i] for i in range(3)}), x='x', y='y', z='z', labels='trajectory')\n",
    "fig.add_trace(go.Scatter3d(\n",
    "    x=pos_arr[:,0],\n",
    "    y=pos_arr[:,1],\n",
    "    z=pos_arr[:,2],\n",
    "    marker={\n",
    "        'color': np.arange(len(pos_arr)),\n",
    "        # 'colorscale': 'viridis'\n",
    "    },\n",
    "    # hovertemplate='<b>%{text}</b>',\n",
    "    # text=np.arange(len(pos_arr))\n",
    "))\n",
    "df = pd.DataFrame({\n",
    "    'frame': frame_inds,\n",
    "    'x': points[0],\n",
    "    'y': points[1],\n",
    "    'z': points[2],\n",
    "})\n",
    "# df = df[df.frame<5]\n",
    "\n",
    "fig.add_trace(go.Scatter3d(\n",
    "        x=df.x, y=df.y, z=df.z, mode='markers', name='skeleton points', marker={\n",
    "            'size': 2,\n",
    "            'color': df.frame,\n",
    "            'colorscale': 'viridis'\n",
    "        },\n",
    "        hovertemplate='<b>%{text}</b>',\n",
    "        text=df.frame\n",
    "    ))\n",
    "\n",
    "for q in range(3):\n",
    "    fig.add_trace(go.Scatter3d(\n",
    "        x=[Rt[0,0,3], Rt[0,0,3]+Rt[0,0,q]],\n",
    "        y=[Rt[0,1,3], Rt[0,1,3]+Rt[0,1,q]],\n",
    "        z=[Rt[0,2,3], Rt[0,2,3]+Rt[0,2,q]]\n",
    "    ))\n",
    "\n",
    "fig.write_html('figures/points.html', auto_open=True)"
   ]
  }
 ],
 "metadata": {
  "kernelspec": {
   "display_name": "warping",
   "language": "python",
   "name": "python3"
  },
  "language_info": {
   "codemirror_mode": {
    "name": "ipython",
    "version": 3
   },
   "file_extension": ".py",
   "mimetype": "text/x-python",
   "name": "python",
   "nbconvert_exporter": "python",
   "pygments_lexer": "ipython3",
   "version": "3.9.12"
  },
  "orig_nbformat": 4
 },
 "nbformat": 4,
 "nbformat_minor": 2
}
