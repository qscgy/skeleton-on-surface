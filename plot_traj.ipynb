{
 "cells": [
  {
   "cell_type": "code",
   "execution_count": 1,
   "metadata": {},
   "outputs": [],
   "source": [
    "import os\n",
    "from os.path import join\n",
    "import re\n",
    "import numpy as np\n",
    "import shutil\n",
    "from mpl_toolkits.mplot3d import Axes3D\n",
    "import matplotlib.pyplot as plt\n",
    "from glob import glob\n",
    "from scipy.spatial.transform import Rotation\n",
    "from exr import read_exr"
   ]
  },
  {
   "cell_type": "code",
   "execution_count": 2,
   "metadata": {},
   "outputs": [],
   "source": [
    "base_dir = '/bigpen/simulator_data/LEC_fast_result'"
   ]
  },
  {
   "cell_type": "code",
   "execution_count": 3,
   "metadata": {},
   "outputs": [
    {
     "name": "stdout",
     "output_type": "stream",
     "text": [
      "[1.0, -0.0003235038, 0.01255963, 3.553312e-05, 0.9999211]\n"
     ]
    }
   ],
   "source": [
    "test_str = \"Frame 00001 Rotation: X=-0.0003235038, Y=0.01255963, Z=3.553312E-05, W=0.9999211\"\n",
    "def parse_sim_poses(line: str):\n",
    "    parsed = line.replace(',','').split(' ')\n",
    "    poses = [float(parsed[1])] + [float(p[2:]) for p in parsed[3:] if len(p)>2]\n",
    "    return poses\n",
    "print(parse_sim_poses(test_str))"
   ]
  },
  {
   "cell_type": "code",
   "execution_count": 4,
   "metadata": {},
   "outputs": [],
   "source": [
    "%matplotlib widget\n",
    "\n",
    "start = 120\n",
    "skeletons = np.load(\"/playpen/skeleton-on-surface/figures/LEC_fast/skeletons.npy\").astype(int)\n",
    "\n",
    "positions = []\n",
    "with open('/bigpen/simulator_data/LEC_fast/LEC_Camera Position Data.txt', 'r') as f:\n",
    "    for line in f:\n",
    "        if line[0]=='#' or len(line)<2:\n",
    "            continue\n",
    "        parsed = line.split(' ')\n",
    "        positions.append(parse_sim_poses(line))\n",
    "quaternions = []\n",
    "with open('/bigpen/simulator_data/LEC_fast/LEC_Camera Quaternion Rotation Data.txt', 'r') as f:\n",
    "    for line in f:\n",
    "        if line[0]=='#' or len(line)<2:\n",
    "            continue\n",
    "        parsed = line.split(' ')\n",
    "        quaternions.append(parse_sim_poses(line))\n",
    "\n",
    "# Convert parsed data to numpy arrays and select only the frames that were skeletonized\n",
    "pos_arr = np.array(positions)[:,1:]     # remove first column since it's just the frame numbers\n",
    "quat_arr = np.array(quaternions)[:,1:]\n",
    "pos_arr = pos_arr[start:start+len(skeletons)]\n",
    "quat_arr = quat_arr[start:start+len(skeletons)]\n",
    "rot_mat_arr = Rotation.from_quat(quat_arr).as_matrix() # type: np.ndarray\n",
    "\n",
    "step = 1\n",
    "skeletons = skeletons[::step]\n",
    "pos_arr = pos_arr[::step]\n",
    "rot_mat_arr = rot_mat_arr[::step]"
   ]
  },
  {
   "cell_type": "code",
   "execution_count": 5,
   "metadata": {},
   "outputs": [],
   "source": [
    "# x is left, y is down in camera coords\n",
    "cx = skeletons.shape[-1]//2\n",
    "cy = skeletons.shape[-2]//2\n",
    "fx = 144.2398/135*cx*2\n",
    "fy = 144.2398/108*cy*2\n",
    "camera_mat = np.array(\n",
    "    [[fx, 0, cx],\n",
    "     [0, fy, cy],\n",
    "     [0, 0, 1]]\n",
    ").astype(float)\n",
    "inv_camera_mat = np.linalg.inv(camera_mat)"
   ]
  },
  {
   "cell_type": "code",
   "execution_count": 33,
   "metadata": {},
   "outputs": [],
   "source": [
    "# Compute inverse pose matrix\n",
    "Rt_inv = np.zeros((len(skeletons), 4, 4))\n",
    "Rt_inv[:,:3,:3] = rot_mat_arr.transpose(0, 2, 1)\n",
    "Rt_inv[:,:3,3] = -pos_arr\n",
    "Rt_inv[:,3,3] = 1\n",
    "\n",
    "Rt= np.zeros((len(skeletons), 4, 4))\n",
    "Rt[:,:3,:3] = rot_mat_arr\n",
    "Rt[:,:3,3] = pos_arr\n",
    "Rt[:,3,3] = 1\n",
    "\n",
    "points = []\n",
    "frame_inds = []\n",
    "rng = np.random.default_rng()\n",
    "for i, sk in enumerate(skeletons):\n",
    "    coords = np.vstack(np.where(sk>0))\n",
    "\n",
    "    # Pick some points at random\n",
    "    rng.shuffle(coords, axis=1)\n",
    "    coords = coords[:,:100] if coords.shape[1]>=50 else coords\n",
    "    coords = coords.astype(int)\n",
    "\n",
    "    # coords = np.array([[sk.shape[1]//4, sk.shape[1]//4, 3*sk.shape[1]//4, 3*sk.shape[1]//4],\n",
    "    #                   [sk.shape[0]//4, 3*sk.shape[0]//4, sk.shape[0]//4, 3*sk.shape[0]//4]])\n",
    "    coords[1] = sk.shape[1] - coords[1]\n",
    "\n",
    "    # Read in depths\n",
    "    depths = read_exr(f\"/bigpen/simulator_data/LEC_fast/LEC_depth{step*i+120:05}.exr\")\n",
    "    zs = depths[coords[0], coords[1]]\n",
    "    # zs = np.ones_like(coords[1]).astype(float)*0.7\n",
    "\n",
    "    # Transform coords to world coordinates\n",
    "    # coords = np.vstack([coords, np.ones_like(zs)])\n",
    "    # coords =  inv_camera_mat @ coords\n",
    "    coords = coords.astype(float)\n",
    "    coords -= np.array([[cx], [cy]])\n",
    "    coords[0] *= 1/fx\n",
    "    coords[1] *= 1/fy\n",
    "    coords = coords*zs\n",
    "    coords = np.vstack([coords, zs, np.ones_like(zs)])\n",
    "    coords = Rt[i] @ coords\n",
    "    points.append(coords)\n",
    "    frame_inds.extend([i for j in range(coords.shape[1])])\n",
    "\n",
    "points = np.hstack(points)\n",
    "points = points[:3]\n",
    "\n",
    "# fig = plt.figure()\n",
    "# ax = Axes3D(fig)\n",
    "# ax.set_box_aspect([np.ptp(r) for r in np.hstack([points, pos_arr.T])])\n",
    "# ax.set_xlabel('X')\n",
    "# ax.set_zlabel('Z')\n",
    "# ax.plot(*pos_arr.T)\n",
    "# # ax.scatter(*old_pose_arr.T[1:4], c=colors)\n",
    "# ax.scatter(*points)\n",
    "\n",
    "# ax.quiver(*pos_arr.T, *(rot_mat_arr[:,:,0].T), color='blue', length=0.3)\n",
    "# ax.quiver(*pos_arr.T, *(rot_mat_arr[:,:,1].T), color='red', length=0.1)\n",
    "# ax.quiver(*pos_arr.T, *(rot_mat_arr[:,:,2].T), color='green', length=0.3)"
   ]
  },
  {
   "cell_type": "code",
   "execution_count": 39,
   "metadata": {},
   "outputs": [],
   "source": [
    "import plotly.express as px\n",
    "import pandas as pd\n",
    "import plotly.graph_objects as go\n",
    "\n",
    "coords = ['x', 'y', 'z']\n",
    "fig = px.line_3d(pd.DataFrame({coords[i]:pos_arr[:,i] for i in range(3)}), x='x', y='y', z='z', labels='trajectory')\n",
    "fig.add_trace(go.Scatter3d(\n",
    "    x=pos_arr[:,0],\n",
    "    y=pos_arr[:,1],\n",
    "    z=pos_arr[:,2],\n",
    "    marker={\n",
    "        'color': np.arange(len(pos_arr)),\n",
    "        # 'colorscale': 'viridis'\n",
    "    },\n",
    "    hovertemplate='<b>%{text}</b>',\n",
    "    text=np.arange(len(pos_arr))\n",
    "))\n",
    "fig.add_trace(go.Scatter3d(\n",
    "        x=points[0], y=points[1], z=points[2], mode='markers', name='skeleton points', marker={\n",
    "            'size': 2,\n",
    "            'color': frame_inds\n",
    "        },\n",
    "        hovertemplate='<b>%{text}</b>',\n",
    "        text=frame_inds\n",
    "    ))\n",
    "fig.write_html('figures/points.html', auto_open=True)"
   ]
  }
 ],
 "metadata": {
  "kernelspec": {
   "display_name": "warping",
   "language": "python",
   "name": "python3"
  },
  "language_info": {
   "codemirror_mode": {
    "name": "ipython",
    "version": 3
   },
   "file_extension": ".py",
   "mimetype": "text/x-python",
   "name": "python",
   "nbconvert_exporter": "python",
   "pygments_lexer": "ipython3",
   "version": "3.9.12"
  },
  "orig_nbformat": 4
 },
 "nbformat": 4,
 "nbformat_minor": 2
}
